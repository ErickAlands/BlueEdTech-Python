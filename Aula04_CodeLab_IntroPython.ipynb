{
  "nbformat": 4,
  "nbformat_minor": 0,
  "metadata": {
    "colab": {
      "name": "Aula04_CodeLab-IntroPython.ipynb",
      "provenance": [],
      "include_colab_link": true
    },
    "kernelspec": {
      "name": "python3",
      "display_name": "Python 3"
    },
    "language_info": {
      "name": "python"
    }
  },
  "cells": [
    {
      "cell_type": "markdown",
      "metadata": {
        "id": "view-in-github",
        "colab_type": "text"
      },
      "source": [
        "<a href=\"https://colab.research.google.com/github/ErickAlands/BlueEdTech-Python/blob/main/Aula04_CodeLab_IntroPython.ipynb\" target=\"_parent\"><img src=\"https://colab.research.google.com/assets/colab-badge.svg\" alt=\"Open In Colab\"/></a>"
      ]
    },
    {
      "cell_type": "markdown",
      "metadata": {
        "id": "Zmfx8vBO8wR6"
      },
      "source": [
        "# **Comando Print, Variáveis e Input**"
      ]
    },
    {
      "cell_type": "code",
      "metadata": {
        "id": "YjlUA_szAhWD"
      },
      "source": [
        "#Print é uma função que imprimi na tela o que a gente quer:\n",
        "\n",
        "print('Hello World') #Sempre acompanhado de parênteses"
      ],
      "execution_count": null,
      "outputs": []
    },
    {
      "cell_type": "code",
      "metadata": {
        "id": "9lZjvDRiKBQM",
        "colab": {
          "base_uri": "https://localhost:8080/"
        },
        "outputId": "e8e1478c-a874-44b4-8e03-c83ecccfba6d"
      },
      "source": [
        "#Variável é um espaço na memória que guarda algum dado.\n",
        "\n",
        "#Em Python todas as váriáveis precisam ser inicializadas com um valor:\n",
        "\n",
        "idade = 23 #Variável idade que recebe o valor 23\n",
        "\n",
        "print(idade)"
      ],
      "execution_count": 53,
      "outputs": [
        {
          "output_type": "stream",
          "text": [
            "23\n"
          ],
          "name": "stdout"
        }
      ]
    },
    {
      "cell_type": "code",
      "metadata": {
        "id": "zwy7soEyKJq0",
        "colab": {
          "base_uri": "https://localhost:8080/"
        },
        "outputId": "e7b9efa2-5ca7-4ad2-a24a-287e7b1cc859"
      },
      "source": [
        "# Tipos de variáveis:\n",
        "  # str = Valores entre aspas ''\n",
        "  # int = Número inteiros\n",
        "  # float = Números decimais\n",
        "  # bool = Valores booleanos: True ou False\n",
        "\n",
        "#Para descobrir qual é o tipo de uma variável eu preciso execultar:\n",
        "\n",
        "idade = 23\n",
        "\n",
        "print(type(idade)) #função type que identifica o tipo da var e função print para mostrar na tela"
      ],
      "execution_count": 54,
      "outputs": [
        {
          "output_type": "stream",
          "text": [
            "<class 'int'>\n"
          ],
          "name": "stdout"
        }
      ]
    },
    {
      "cell_type": "code",
      "metadata": {
        "id": "gLBw8OcWKUjZ",
        "colab": {
          "base_uri": "https://localhost:8080/"
        },
        "outputId": "597866e8-8d48-431c-c18e-d61e53fc1714"
      },
      "source": [
        "# Para escrever um texto antes de mostrar o tipo podemos fazer o f string:\n",
        "\n",
        "idade = 23\n",
        "\n",
        "print(f'Sua var idade é do tipo: {type(idade)}') #Entre chaves coloque valores que não são string"
      ],
      "execution_count": 55,
      "outputs": [
        {
          "output_type": "stream",
          "text": [
            "Sua var idade é do tipo: <class 'int'>\n"
          ],
          "name": "stdout"
        }
      ]
    },
    {
      "cell_type": "code",
      "metadata": {
        "id": "Pwhy755zKXVA"
      },
      "source": [
        "#Para eu perguntar para o usuário a idade dele e apresentar na tela, posso usar input:\n",
        "\n",
        "idade = input('Quantos anos você tem? ')\n",
        "\n",
        "print(f'Que legal! Você tem {idade} anos')"
      ],
      "execution_count": null,
      "outputs": []
    },
    {
      "cell_type": "code",
      "metadata": {
        "id": "Om3CsQDoLkvN",
        "colab": {
          "base_uri": "https://localhost:8080/"
        },
        "outputId": "11cd89b9-9fd0-4438-f6b2-64ddcfd40626"
      },
      "source": [
        "# Uma forma de atribuir o mesmo valor a várias variáveis é:\n",
        "\n",
        "peso = idade = quantidade = 60\n",
        "\n",
        "print(f'Peso: {peso}, Idade: {idade}, Quantidade: {quantidade}')"
      ],
      "execution_count": 56,
      "outputs": [
        {
          "output_type": "stream",
          "text": [
            "Peso: 60, Idade: 60, Quantidade: 60\n"
          ],
          "name": "stdout"
        }
      ]
    },
    {
      "cell_type": "code",
      "metadata": {
        "id": "Nwuw3gzRMIpi",
        "colab": {
          "base_uri": "https://localhost:8080/"
        },
        "outputId": "d673fa27-f420-4b07-c289-f32093948832"
      },
      "source": [
        "# Você pode atribuir valores diferentes a variáveis diferentes na mesma linha:\n",
        "\n",
        "inteiro, texto, booleano, flutuante = 23, \"Olá\", True, 23.5\n",
        "\n",
        "# Para colocar cada item em uma linha é só adicionar um \\n entre as informações:\n",
        "print(f'Inteiro: {inteiro}\\nTexto: {texto}\\nBooleano: {booleano}\\nFlutuante: {flutuante}')"
      ],
      "execution_count": 57,
      "outputs": [
        {
          "output_type": "stream",
          "text": [
            "Inteiro: 23\n",
            "Texto: Olá\n",
            "Booleano: True\n",
            "Flutuante: 23.5\n"
          ],
          "name": "stdout"
        }
      ]
    },
    {
      "cell_type": "markdown",
      "metadata": {
        "id": "tTu_CWTjI946"
      },
      "source": [
        "## Exercícios\n"
      ]
    },
    {
      "cell_type": "markdown",
      "metadata": {
        "id": "lmPZx5u4RoQZ"
      },
      "source": [
        "01 - Elabore um programa que imprima na tela a seguinte frase `Olá Mundo! Esse é o meu primeiro programa`"
      ]
    },
    {
      "cell_type": "code",
      "metadata": {
        "id": "g8dMf1JWJIro",
        "colab": {
          "base_uri": "https://localhost:8080/"
        },
        "outputId": "62f24dca-0983-4a64-90a1-38ad31fecc78"
      },
      "source": [
        "# Resposta:\n",
        "\n",
        "print('Olá Mundo! Esse e o meu primeiro programa!')\n"
      ],
      "execution_count": 1,
      "outputs": [
        {
          "output_type": "stream",
          "text": [
            "Olá Mundo! Esse e o meu primeiro projeto!\n"
          ],
          "name": "stdout"
        }
      ]
    },
    {
      "cell_type": "markdown",
      "metadata": {
        "id": "Spj9tyYQRgXi"
      },
      "source": [
        "02 - Elabore um programa que escreve seu nome completo na primeira linha, seu endereço na segunda e o CEP e telefone na terceira.  \n",
        "\n",
        "**Exemplo:**\n",
        "```\n",
        "Nome: Bruno Fabri\n",
        "Endereço: Rua ABC\n",
        "CEP: 002220-010\n",
        "```"
      ]
    },
    {
      "cell_type": "code",
      "metadata": {
        "id": "BbNGATgmRwjW",
        "colab": {
          "base_uri": "https://localhost:8080/"
        },
        "outputId": "4649b53b-40eb-4170-80b3-8ab365aded7a"
      },
      "source": [
        "# Resposta:\n",
        "\n",
        "print('Nome: Erick\\nEndereço: Rua Petrópolis\\nCep: 96450-090')\n"
      ],
      "execution_count": 12,
      "outputs": [
        {
          "output_type": "stream",
          "text": [
            "Nome: Erick\n",
            "Endereço: Rua Petrópolis\n",
            "Cep: 96450-090\n"
          ],
          "name": "stdout"
        }
      ]
    },
    {
      "cell_type": "markdown",
      "metadata": {
        "id": "VkAAhkqYR2Tj"
      },
      "source": [
        "03 - Elabore um programa que recebe o nome de uma pessoa do terminal e mostra a seguinte mensagem: `Olá {nome}! Seja bem vindo ao fantástico mundo da programação`"
      ]
    },
    {
      "cell_type": "code",
      "metadata": {
        "id": "Vceow2I6SA62",
        "colab": {
          "base_uri": "https://localhost:8080/"
        },
        "outputId": "4e15fd01-d73e-492e-dd9f-5525ccef82a3"
      },
      "source": [
        "# Resposta:\n",
        "\n",
        "nome = input('Qual é o seu nome? ')\n",
        "\n",
        "print(f'Olá {nome}! Seja bem vindo ao fantástico mundo da programação!')\n"
      ],
      "execution_count": 5,
      "outputs": [
        {
          "output_type": "stream",
          "text": [
            "Qual é o seu nome? Erick\n",
            "Olá Erick! Seja bem vindo ao fantástico mundo da programação!\n"
          ],
          "name": "stdout"
        }
      ]
    },
    {
      "cell_type": "markdown",
      "metadata": {
        "id": "uT2UBCKsQNNq"
      },
      "source": [
        "# **Operadores: Aritméticos, Relacionais e Lógicos**"
      ]
    },
    {
      "cell_type": "code",
      "metadata": {
        "id": "LjBN25O0Qdmj"
      },
      "source": [
        "# Operadores Aritméticos:\n",
        "  # + (Adição)\n",
        "  # - (Subtração)\n",
        "  # * (Multiplicação)\n",
        "  # / (Divisão)\n",
        "  # // (Divisão inteira)\n",
        "  # ** (Exponenciação)\n",
        "  # % (Resto da divisão(mod))\n",
        "\n",
        "# Agora vamos solicitar um valor para o user, porém precisamos converter o valor input.\n",
        "# Isso por que todo input devolve um valor str.\n",
        "# E para realizar as operações precisamos de um valor int\n",
        "\n",
        "#Para converter é só fazer isso:\n",
        "n1 = int(input('Digite o primeiro número: '))\n",
        "n2 = int(input('Digite o segundo número: '))\n",
        "\n",
        "soma = n1 + n2\n",
        "sub = n1 - n2\n",
        "mult = n1 * n2\n",
        "div = n1 / n2\n",
        "divInteira = n1 // n2\n",
        "expo = n1 ** n2\n",
        "mod = n1 % n2\n",
        "\n",
        "print(f'{n1} + {n2} = {soma}')\n",
        "print(f'{n1} - {n2} = {sub}')\n",
        "print(f'{n1} * {n2} = {mult}')\n",
        "print(f'{n1} / {n2} = {div}')\n",
        "print(f'{n1} // {n2} = {divInteira}')\n",
        "print(f'{n1} ** {n2} = {expo}')\n",
        "print(f'{n1} % {n2} = {mod}')\n"
      ],
      "execution_count": null,
      "outputs": []
    },
    {
      "cell_type": "code",
      "metadata": {
        "id": "CWkaWk7LRboQ"
      },
      "source": [
        "#Para limitar as casas decimais de uma var float precisamos aplicar essa formatação:\n",
        "\n",
        "n1 = int(input('Digite o primeiro número: '))\n",
        "n2 = int(input('Digite o segundo número: '))\n",
        "\n",
        "div = n1 / n2\n",
        "\n",
        "print(f'{n1} / {n2} = {div:.2f}')\n",
        "\n",
        "# 2f é a quantidade de casas decimais desejadas."
      ],
      "execution_count": null,
      "outputs": []
    },
    {
      "cell_type": "code",
      "metadata": {
        "id": "zv1FLJwMXuFo"
      },
      "source": [
        "# Operadores Relacionais\n",
        "  # > (Maior que)\n",
        "  # < (Menor que)\n",
        "  # >= (Maior OU igual que)\n",
        "  # <= (Menor OU igual que)\n",
        "  # != (Diferente de)\n",
        "  # == (Igual a)\n",
        "\n",
        "  # Sempre retornam True ou False\n",
        "  # São usados para comparar valores\n",
        "  # Utilize a técnica de perguntar\n",
        "\n",
        "\n",
        "n1 = int(input('Digite o primeiro número: '))\n",
        "n2 = int(input('Digite o segundo número: '))\n",
        "\n",
        "print(f'{n1} é maior que {n2}? {n1 > n2}')\n",
        "print(f'{n1} é menor que {n2}? {n1 < n2}')\n",
        "print(f'{n1} é maior ou igual que {n2}? {n1 >= n2}')\n",
        "print(f'{n1} é menor ou igual que {n2}? {n1 <= n2}')\n",
        "print(f'{n1} é diferente de {n2}? {n1 != n2}')\n",
        "print(f'{n1} é igual a {n2}? {n1 == n2}')\n"
      ],
      "execution_count": null,
      "outputs": []
    },
    {
      "cell_type": "code",
      "metadata": {
        "colab": {
          "base_uri": "https://localhost:8080/"
        },
        "id": "6TNqv-1VZfK9",
        "outputId": "23ec13a7-a727-424c-a2c5-83f70e65f8fa"
      },
      "source": [
        "# Operadores Lógicos\n",
        "  # and (E)\n",
        "  # or  (OU)\n",
        "  # not (Negação)\n",
        "\n",
        "# Retorna True ou False\n",
        "# Compara duas expreções relacionais\n",
        "\n",
        "n1 = 1\n",
        "n2 = 2\n",
        "n3 = 3\n",
        "n4 = 4\n",
        "\n",
        "# Vamos perguntar: n1 é maior que n2 E n3 é menor que n4?\n",
        "# A resposta só será True se TODAS as relações forem True:\n",
        "\n",
        "print(n1 > n2 and n3 < n4) # Nesse caso da False, por que n1 não é maior que n2\n",
        "\n",
        "# Vamos perguntar: n1 é maior que n2 OU n3 é menor que n4?\n",
        "# A resposta será True se ao menos UMA relação for True:\n",
        "\n",
        "print(n1 > n2 or n3 < n4) # Nesse caso da True, por que pelo menos n3 é menor que n4\n",
        "\n",
        "# O operador NOT, serve para negar o resultado da operação.\n",
        "# Ou seja, ele inverte o resultado, se for True, transforma em False e vice versa.\n",
        "\n",
        "print(not n1 > n2) # Retorna True, por que o resultado de n1 maior que n2 é False\n",
        "\n",
        "# Para negar uma operação composta de operadores relacionais e lógicos devemos usar as {}:\n",
        "\n",
        "print(not {n1 > n2 or n3 < n4}) # Aqui retornaria True, se não fosse o not.\n"
      ],
      "execution_count": null,
      "outputs": [
        {
          "output_type": "stream",
          "text": [
            "False\n",
            "True\n",
            "True\n",
            "False\n"
          ],
          "name": "stdout"
        }
      ]
    },
    {
      "cell_type": "markdown",
      "metadata": {
        "id": "V4Kg2SPIS27-"
      },
      "source": [
        "## Exercicios"
      ]
    },
    {
      "cell_type": "markdown",
      "metadata": {
        "id": "9rb59HolS6s9"
      },
      "source": [
        "04 - Elabore um programa que recebe dois valores inteiros e mostra a soma desses valores\n",
        "\n",
        "**Exemplo:**\n",
        "\n",
        "```\n",
        "Primeiro Valor = 2\n",
        "Segundo Valor = 3\n",
        "Soma = 5\n",
        "```"
      ]
    },
    {
      "cell_type": "code",
      "metadata": {
        "id": "cDyb7_AMS58q",
        "colab": {
          "base_uri": "https://localhost:8080/"
        },
        "outputId": "6099b4ec-3284-4ff8-8b1a-6a3bd5b0074c"
      },
      "source": [
        "# Resposta:\n",
        "\n",
        "n1 = int(input('Digite o primeiro número: '))\n",
        "n2 = int(input('Digite o segundo número: '))\n",
        "\n",
        "soma = n1 + n2\n",
        "\n",
        "print(f'{n1} + {n2} = {soma}')\n"
      ],
      "execution_count": 6,
      "outputs": [
        {
          "output_type": "stream",
          "text": [
            "Digite o primeiro número: 5\n",
            "Digite o segundo número: 7\n",
            "5 + 7 = 12\n"
          ],
          "name": "stdout"
        }
      ]
    },
    {
      "cell_type": "markdown",
      "metadata": {
        "id": "ToLeCDCuTCtz"
      },
      "source": [
        "05 - Elabore um programa que receba 4 notas de um aluno e calcule a média dele.\n",
        "\n",
        "**Exemplo:**\n",
        "\n",
        "```\n",
        "Primeiro Nota = 7\n",
        "Segundo Nota = 8\n",
        "Terceiro Nota = 10\n",
        "Quarto Nota = 6\n",
        "\n",
        "Média = 7,75\n",
        "```"
      ]
    },
    {
      "cell_type": "code",
      "metadata": {
        "id": "a2CQjPojTyD9",
        "colab": {
          "base_uri": "https://localhost:8080/"
        },
        "outputId": "724e5715-d8db-46e0-e4c6-0edd29df803f"
      },
      "source": [
        "# Resposta:\n",
        "\n",
        "n1 = float(input('Digite aqui a primeira nota: '))\n",
        "n2 = float(input('Digite aqui a segunda nota: '))\n",
        "n3 = float(input('Digite aqui a terceira nota: '))\n",
        "n4 = float(input('Digite aqui a quarta nota: '))\n",
        "\n",
        "media = (n1 + n2 + n3 + n4) / 4\n",
        "\n",
        "print(f' A sua média é {media:.2f}')\n"
      ],
      "execution_count": 8,
      "outputs": [
        {
          "output_type": "stream",
          "text": [
            "Digite aqui a primeira nota: 8\n",
            "Digite aqui a segunda nota: 9\n",
            "Digite aqui a terceira nota: 7\n",
            "Digite aqui a quarta nota: 8.5\n",
            " A sua média é 8.12\n"
          ],
          "name": "stdout"
        }
      ]
    },
    {
      "cell_type": "markdown",
      "metadata": {
        "id": "Jc42VswpUHgb"
      },
      "source": [
        "06 - Elabore um programa que recebe dois valores inteiros e mostra se o primeiro valor é maior ou igual ao segundo valor\n",
        "\n",
        "**Exemplo:**\n",
        "```\n",
        "Primeiro Valor = 3\n",
        "Segundo Valor = 2\n",
        "Resultado = True\n",
        "```"
      ]
    },
    {
      "cell_type": "code",
      "metadata": {
        "id": "XAI-npGXUL76",
        "colab": {
          "base_uri": "https://localhost:8080/"
        },
        "outputId": "a756acb5-e6e2-4137-eb54-6c8454cb7e0e"
      },
      "source": [
        "# Resposta:\n",
        "\n",
        "valor1 = float(input('Digite o primeiro valor: '))\n",
        "valor2 = float(input('Digite o segundo valor: '))\n",
        "\n",
        "print(valor1 > valor2)"
      ],
      "execution_count": 10,
      "outputs": [
        {
          "output_type": "stream",
          "text": [
            "Digite o primeiro valor: 50\n",
            "Digite o segundo valor: 24\n",
            "True\n"
          ],
          "name": "stdout"
        }
      ]
    },
    {
      "cell_type": "markdown",
      "metadata": {
        "id": "D6lcbtHDhLKP"
      },
      "source": [
        "# **Manipulação de Strings**"
      ]
    },
    {
      "cell_type": "code",
      "metadata": {
        "id": "BA70o_L5hiYw"
      },
      "source": [
        "# Uma string é uma sequência de caracteres simples. Na linguagem Python, \n",
        "# as strings são utilizadas com aspas simples ('...') ou aspas duplas (\"...\").\n",
        "\n",
        "# Concatenação de Strings:\n",
        "\n",
        "titulo = 'Programação '\n",
        "linguagem = 'Python'\n",
        "titulo_linguagem = titulo + linguagem # Concatenação das Strings (str)\n",
        "\n",
        "print(titulo_linguagem)"
      ],
      "execution_count": null,
      "outputs": []
    },
    {
      "cell_type": "markdown",
      "metadata": {
        "id": "EGWXGUI8_x-j"
      },
      "source": [
        "## **Métodos de manipulação**"
      ]
    },
    {
      "cell_type": "code",
      "metadata": {
        "id": "rdBA5QlYzG8I",
        "colab": {
          "base_uri": "https://localhost:8080/"
        },
        "outputId": "e6fa68f3-5479-45cb-f3ef-4e686e9f6337"
      },
      "source": [
        "# Método len()\n",
        "\n",
        "#Retorna o tamanho da string\n",
        "\n",
        "titulo = 'Programação Python'\n",
        "\n",
        "print(f'O tamanho da String titulo é: {len(titulo)}')"
      ],
      "execution_count": 65,
      "outputs": [
        {
          "output_type": "stream",
          "text": [
            "O tamanho da String titulo é: 18\n"
          ],
          "name": "stdout"
        }
      ]
    },
    {
      "cell_type": "code",
      "metadata": {
        "id": "qf4AzhOy0T5y",
        "colab": {
          "base_uri": "https://localhost:8080/"
        },
        "outputId": "545e30e0-5b9d-4688-eb5b-bcf434054aae"
      },
      "source": [
        "# Método capitalize()\n",
        "\n",
        "# Retorna a string com a primeira letra maiúscula\n",
        "\n",
        "titulo = 'python'\n",
        "\n",
        "print(titulo.capitalize())"
      ],
      "execution_count": 25,
      "outputs": [
        {
          "output_type": "stream",
          "text": [
            "Python\n"
          ],
          "name": "stdout"
        }
      ]
    },
    {
      "cell_type": "code",
      "metadata": {
        "id": "nOMj8_bi0njx"
      },
      "source": [
        "# Método count()\n",
        "\n",
        "# Informa quantas vezes um caractere (ou uma sequência de caracteres) aparece na string.\n",
        "# Distingue entre maiúsculas e minúsculas\n",
        "\n",
        "titulo = 'Programação em Python'\n",
        "\n",
        "print(titulo.count('a')) # Conte quantos caracteres 'a' eu tenho nessa string"
      ],
      "execution_count": null,
      "outputs": []
    },
    {
      "cell_type": "code",
      "metadata": {
        "id": "qWQFjtPo1gLG"
      },
      "source": [
        "# Método startswith()\n",
        "\n",
        "# Verifica se uma string inicia com uma determinada sequência ou letra\n",
        "\n",
        "titulo = 'Python'\n",
        "\n",
        "print(titulo.startswith('Py')) # O retorno será True ou False"
      ],
      "execution_count": null,
      "outputs": []
    },
    {
      "cell_type": "code",
      "metadata": {
        "id": "qffnbR-P3UE1"
      },
      "source": [
        "# Método endswith()​\n",
        "\n",
        "# Verifica se uma string termina com uma determinada sequência ou letra.\n",
        "\n",
        "titulo = 'Python'\n",
        "\n",
        "print(titulo.endswith('Py')) # O retorno será True ou False"
      ],
      "execution_count": null,
      "outputs": []
    },
    {
      "cell_type": "code",
      "metadata": {
        "id": "0EFSChZN3gOw"
      },
      "source": [
        "# Método isalnum()​\n",
        "\n",
        "# Verifica se a string possui algum conteúdo alfanumérico (letra ou número).\n",
        "\n",
        "simbolos = '!@#$%&'\n",
        "\n",
        "print(simbolos.isalnum()) # O retorno será True ou False"
      ],
      "execution_count": null,
      "outputs": []
    },
    {
      "cell_type": "code",
      "metadata": {
        "id": "q_0w_UaT4Je2"
      },
      "source": [
        "# Método isalpha()​\n",
        "\n",
        "# Verifica se a string possui apenas conteúdo alfabético (letras).\n",
        "\n",
        "titulo = 'Python'\n",
        "\n",
        "print(titulo.isalpha()) # O retorno será True ou False"
      ],
      "execution_count": null,
      "outputs": []
    },
    {
      "cell_type": "code",
      "metadata": {
        "id": "wH6jZHmm4gEH"
      },
      "source": [
        "# Método islower()\n",
        "\n",
        "# Verifica se todas as letras de uma string são minúsculas​.\n",
        "\n",
        "titulo = 'Python'\n",
        "\n",
        "print(titulo.islower()) # O retorno será True ou False"
      ],
      "execution_count": null,
      "outputs": []
    },
    {
      "cell_type": "code",
      "metadata": {
        "id": "TmQ3-Smj4q4Q"
      },
      "source": [
        "# Método isupper()​\n",
        "\n",
        "# Verifica se todas as letras de uma string são maiúsculas. \n",
        "\n",
        "titulo = 'PYTHON'\n",
        "\n",
        "print(titulo.isupper()) # O retorno será True ou False"
      ],
      "execution_count": null,
      "outputs": []
    },
    {
      "cell_type": "code",
      "metadata": {
        "id": "fl6Ybw0D42yi",
        "colab": {
          "base_uri": "https://localhost:8080/"
        },
        "outputId": "8bb53da9-93b5-4fc9-e028-578ccea09a52"
      },
      "source": [
        "# Método lower()​\n",
        "\n",
        "# Retorna uma cópia da string trocando todas as letras para minúsculo.\n",
        "\n",
        "titulo = 'PYTHON'\n",
        "\n",
        "print(titulo.lower())"
      ],
      "execution_count": 37,
      "outputs": [
        {
          "output_type": "stream",
          "text": [
            "python\n"
          ],
          "name": "stdout"
        }
      ]
    },
    {
      "cell_type": "code",
      "metadata": {
        "id": "hYAme2ft5Dto"
      },
      "source": [
        "# Método upper()​\n",
        "\n",
        "# Retorna uma cópia da string trocando todas as letras para maiúsculo.\n",
        "\n",
        "titulo = 'python'\n",
        "\n",
        "print(titulo.upper())"
      ],
      "execution_count": null,
      "outputs": []
    },
    {
      "cell_type": "code",
      "metadata": {
        "id": "x_fUCiM75Ke7"
      },
      "source": [
        "# Método swapcase()​\n",
        "\n",
        "# Inverte o conteúdo da string (Minúsculo / Maiúsculo).​\n",
        "\n",
        "titulo = 'Python'\n",
        "\n",
        "print(titulo.swapcase())"
      ],
      "execution_count": null,
      "outputs": []
    },
    {
      "cell_type": "code",
      "metadata": {
        "id": "jEIrPCF_5hCy"
      },
      "source": [
        "# Método title()​\n",
        "\n",
        "# Converte para maiúsculo todas as primeiras letras de cada palavra da string.\n",
        "\n",
        "titulo = 'Programação em python'\n",
        "\n",
        "print(titulo.title())"
      ],
      "execution_count": null,
      "outputs": []
    },
    {
      "cell_type": "code",
      "metadata": {
        "id": "42JhujV85tF2",
        "colab": {
          "base_uri": "https://localhost:8080/"
        },
        "outputId": "35745ac7-dc2d-4ef1-fb90-325d6e32b79a"
      },
      "source": [
        "# Método split()​\n",
        "\n",
        "# Transforma a string em uma lista, utilizando os espaços como referência. ​\n",
        "\n",
        "titulo = 'Programação em Python'\n",
        "\n",
        "print(titulo.split())"
      ],
      "execution_count": 24,
      "outputs": [
        {
          "output_type": "stream",
          "text": [
            "['Programação', 'em', 'Python']\n"
          ],
          "name": "stdout"
        }
      ]
    },
    {
      "cell_type": "code",
      "metadata": {
        "id": "hSEtRsWl6lyq"
      },
      "source": [
        "# Método replace(S1, S2)\n",
        "\n",
        "# Substitui na String o techo de S1 pelo trecho S2\n",
        "\n",
        "titulo = 'Programação em Java'\n",
        "\n",
        "print(titulo.replace('Java', 'Python'))"
      ],
      "execution_count": null,
      "outputs": []
    },
    {
      "cell_type": "code",
      "metadata": {
        "id": "fGp-6dkD8jsK"
      },
      "source": [
        "# Método find()​\n",
        "\n",
        "# Retorna o índice (posição) da primeira ocorrência de um determinado caractere na string.\n",
        "# Se o caractere não estiver na string retorna -1.\n",
        "\n",
        "titulo = 'Programação em Python'\n",
        "\n",
        "print(titulo.find('j'))\n",
        "\n",
        "print(titulo.find('o'))"
      ],
      "execution_count": null,
      "outputs": []
    },
    {
      "cell_type": "code",
      "metadata": {
        "id": "X-OWpTt99ThE"
      },
      "source": [
        "# Método ljust()​\n",
        "\n",
        "# Ajusta a string para um tamanho mínimo, acrescentando espaços à direita se necessário.​\n",
        "\n",
        "titulo = 'Python'\n",
        "\n",
        "print(f'*{titulo.ljust(15)}*') # 15 é o número de espaço que eu quero que o titulo ocupe."
      ],
      "execution_count": null,
      "outputs": []
    },
    {
      "cell_type": "code",
      "metadata": {
        "id": "-dXk0a8Z97VS"
      },
      "source": [
        "# Método center()​\n",
        "\n",
        "# Ajusta a string para um tamanho mínimo, acrescentando espaços à esquerda e à direita, se necessário.\n",
        "\n",
        "titulo = 'Python'\n",
        "\n",
        "print(f'*{titulo.center(20)}*') # 20 é o número de espaço que eu quero que o titulo ocupe."
      ],
      "execution_count": null,
      "outputs": []
    },
    {
      "cell_type": "code",
      "metadata": {
        "id": "m-XSumSj-Wlv"
      },
      "source": [
        "# Método rjust()​\n",
        "\n",
        "# Ajusta a string para um tamanho mínimo, acrescentando espaços à esquerda se necessário.​\n",
        "\n",
        "titulo = 'Python'\n",
        "\n",
        "print(f'*{titulo.rjust(30)}*') # 30 é o número de espaço que eu quero que o titulo ocupe."
      ],
      "execution_count": null,
      "outputs": []
    },
    {
      "cell_type": "code",
      "metadata": {
        "id": "RnzlTp2k-hnE"
      },
      "source": [
        "# Método strip()​\n",
        "\n",
        "# Remove todos os espaços em branco da string.\n",
        "\n",
        "titulo = '   Python   '\n",
        "\n",
        "print(f'*{titulo.strip()}*')"
      ],
      "execution_count": null,
      "outputs": []
    },
    {
      "cell_type": "markdown",
      "metadata": {
        "id": "khy9z-jP_qV_"
      },
      "source": [
        "## **Fatiamento de Strings**"
      ]
    },
    {
      "cell_type": "code",
      "metadata": {
        "id": "M66bDqUC_pdF"
      },
      "source": [
        "# Serve para retornar apenas uma parte da String\n",
        "\n",
        "# Uma String é uma lista de caracteres, essa lista começa em 0 sempre:\n",
        "\n",
        "  # 'Python'\n",
        "  #  012345\n",
        "    # Posição 0 = P\n",
        "    # Posição 1 = y\n",
        "    # Posição 2 = t\n",
        "    # Posição 3 = h\n",
        "    # Posição 4 = o\n",
        "    # Posição 5 = n\n",
        "\n",
        "# IMPORTANTE: Os espaços são caracteres também!\n",
        "\n",
        "titulo = 'Programação com Python'\n",
        "\n",
        "print(titulo[0]) # Retorna o primeiro caractere\n",
        "\n",
        "print(titulo[-1]) # Retorna o último caractere\n",
        "\n",
        "print(titulo[2:15]) # Retorna os caracteres da posição 2 até a posição 14 (desconsidera a posição 15)\n",
        "\n",
        "print(titulo[:15]) # Retorna os caracteres da posição 0 até a posição 14 (desconsidera a posição 15)\n",
        "\n",
        "print(titulo[6:]) # Retorna os caracteres da posição 6 até a última posição\n",
        "\n",
        "print(titulo[2:15:2]) # Retorna os caracteres da posição 2 até a posição 14 pulando de 2 em 2"
      ],
      "execution_count": null,
      "outputs": []
    },
    {
      "cell_type": "markdown",
      "metadata": {
        "id": "6LoX6mhVUy5S"
      },
      "source": [
        "## Exercícios"
      ]
    },
    {
      "cell_type": "markdown",
      "metadata": {
        "id": "v80-OPw1U49a"
      },
      "source": [
        "07 - Considere a string A = \"Os limites só existem se você os deixar existir.(goku)\".\n",
        "\n",
        "Que fatia corresponde a (goku)?"
      ]
    },
    {
      "cell_type": "code",
      "metadata": {
        "id": "A4wb4tQ3VDGf",
        "colab": {
          "base_uri": "https://localhost:8080/"
        },
        "outputId": "9570ea36-18f1-42a6-e6d2-a3bad97b7f64"
      },
      "source": [
        "# Resposta:\n",
        "\n",
        "frase = 'Os limites só existem se você os deixar existir.(goku)'\n",
        "\n",
        "print(frase[48:])"
      ],
      "execution_count": 73,
      "outputs": [
        {
          "output_type": "stream",
          "text": [
            "(goku)\n"
          ],
          "name": "stdout"
        }
      ]
    },
    {
      "cell_type": "markdown",
      "metadata": {
        "id": "cVHqdSRSKzDe"
      },
      "source": [
        "07 - Considere a string A = \"Os limites só existem se você os deixar existir.(goku)\".\n",
        "\n",
        "Que fatia corresponde a (goku)?"
      ]
    },
    {
      "cell_type": "markdown",
      "metadata": {
        "id": "3Oq5L0UZKyfM"
      },
      "source": [
        "07 - Considere a string A = \"Os limites só existem se você os deixar existir.(goku)\".\n",
        "\n",
        "Que fatia corresponde a (goku)?"
      ]
    },
    {
      "cell_type": "markdown",
      "metadata": {
        "id": "ySMoS96mVIHS"
      },
      "source": [
        "08 - Escreva um programa que solicite uma frase ao usuário e escreva a frase toda em maiúscula e sem espaços em branco."
      ]
    },
    {
      "cell_type": "code",
      "metadata": {
        "id": "Nc_Gen3yVUrB",
        "colab": {
          "base_uri": "https://localhost:8080/"
        },
        "outputId": "482d9fde-8f83-4065-861e-763368dbbb6d"
      },
      "source": [
        "# Resposta:\n",
        "\n",
        "frase = input('Digite uma frase: ').upper()\n",
        "\n",
        "print(frase.replace(' ',''))\n",
        "\n",
        "\n"
      ],
      "execution_count": 74,
      "outputs": [
        {
          "output_type": "stream",
          "text": [
            "Digite uma frase: É AGORA MINHA GENTEEEE\n",
            "ÉAGORAMINHAGENTEEEE\n"
          ],
          "name": "stdout"
        }
      ]
    },
    {
      "cell_type": "markdown",
      "metadata": {
        "id": "BoeKDNIkVZwq"
      },
      "source": [
        "09 - Elabore um programa que recebe o seu nome, endereço e hobby e mostra cada uma das informações da seguinte forma:\n",
        "- Nome -> Letra maiúscula\n",
        "- Endereço -> Letra minúscula\n",
        "- Hobby -> Primeira letra maiúscula\n",
        "\n",
        "**Exemplo Entrada:**\n",
        "```\n",
        "Nome: bruno fabri\n",
        "Endereço: Rua ABC\n",
        "Hobby: jogar cs\n",
        "```\n",
        "\n",
        "**Exemplo Saída:**\n",
        "```\n",
        "Nome: BRUNO FABRI\n",
        "Endereço: rua abc\n",
        "Hobby: Jogar cs\n",
        "```"
      ]
    },
    {
      "cell_type": "code",
      "metadata": {
        "id": "XPmY2CpLVgwS",
        "colab": {
          "base_uri": "https://localhost:8080/"
        },
        "outputId": "82f56834-1384-49ec-864f-7465ec58607a"
      },
      "source": [
        "# Resposta:\n",
        "\n",
        "a1 = input('Nome ')\n",
        "a2 = input('Endereço ')\n",
        "a3 = input('Hobby ')\n",
        "\n",
        "print(f'Nome: {a1.upper()}\\nEndereço: {a2.lower()}\\nHobby: {a3.capitalize()}')\n",
        "\n",
        "\n"
      ],
      "execution_count": 62,
      "outputs": [
        {
          "output_type": "stream",
          "text": [
            "Nome erick alan\n",
            "Endereço Rua PETRÓPOLIS\n",
            "Hobby ver séries\n",
            "Nome: ERICK ALAN\n",
            "Endereço: rua petrópolis\n",
            "Hobby: Ver séries\n"
          ],
          "name": "stdout"
        }
      ]
    },
    {
      "cell_type": "markdown",
      "metadata": {
        "id": "AwpeihKpVxjM"
      },
      "source": [
        "# **Mini projetos**"
      ]
    },
    {
      "cell_type": "markdown",
      "metadata": {
        "id": "xWcbRWxRV8yM"
      },
      "source": [
        "```\n",
        "# Isto está formatado como código\n",
        "```\n",
        "\n",
        "## Mini Projeto 01 - Conversor de Moeda\n",
        "Vamos construir um programa que irá converter moedas do real para o dólar e do dólar para o real. Vamos considerar que `$ 1,00 = R$ 5,75`\n",
        "\n",
        "### Parte 1\n",
        "Faça o conversor de moeda receber o valor em real e mostrar o valor convertido para dólar no formato `$ XXXX.XX`\n",
        "\n",
        "**Exemplo:**\n",
        "\n",
        "```\n",
        "Valor em R$ = 1000\n",
        "Valor em $ = $ 173.91\n",
        "```\n",
        "\n",
        "### Parte 2\n",
        "Altere o conversor de moedas para receber o valor em dólar, converter para real e mostrar o resultado no formato `R$ XXXX.XX`\n",
        "\n",
        "**Exemplo:**\n",
        "```\n",
        "Valor em $ = 1000\n",
        "Valor em R$ = R$ 5750.00\n",
        "```"
      ]
    },
    {
      "cell_type": "code",
      "metadata": {
        "id": "yxJi46NsWPv2",
        "colab": {
          "base_uri": "https://localhost:8080/"
        },
        "outputId": "d3ddf49e-45f7-4819-859f-32a0451291bf"
      },
      "source": [
        "# Resposta Parte 1\n",
        "\n",
        "valor = float(input('Valor em Reais: R$ '))\n",
        "converter = valor / 5.75\n",
        "\n",
        "print(f'R$ {valor} é $ {converter:.2f} em dólar')"
      ],
      "execution_count": 86,
      "outputs": [
        {
          "output_type": "stream",
          "text": [
            "Valor em Reais: R$ 10\n",
            "R$ 10.0 é $ 1.74 em dólar\n"
          ],
          "name": "stdout"
        }
      ]
    },
    {
      "cell_type": "code",
      "metadata": {
        "id": "pXNTytAgWSLm",
        "colab": {
          "base_uri": "https://localhost:8080/"
        },
        "outputId": "c3f1a400-4225-4437-b3ef-2bb59515275c"
      },
      "source": [
        "# Resposta Parte 2\n",
        "\n",
        "valor = float(input('Valor em Dólar: $'))\n",
        "converter = valor * 5.75\n",
        "\n",
        "print(f'$ {valor} é R$ {converter:.2f} em reais')"
      ],
      "execution_count": 87,
      "outputs": [
        {
          "output_type": "stream",
          "text": [
            "Valor em Dólar: $10\n",
            "$ 10.0 é R$ 57.50 em reais\n"
          ],
          "name": "stdout"
        }
      ]
    },
    {
      "cell_type": "markdown",
      "metadata": {
        "id": "CvO7KWU-WWxo"
      },
      "source": [
        "## Mini Projeto 02 - Calculadora de aumento de aluguel\n",
        "Vamos construir um programa que irá calcular o aumento anual do seu aluguel em duas partes:\n",
        "\n",
        "### Parte 1\n",
        "A sua calculadora vai receber o `valor do aluguel` e calcular o aumento baseado no `IGPM de 31%`. A calculadora deve apresentar o aluguel reajustado no formato `R$ XXXX.XX`\n",
        "\n",
        "**Exemplo:**\n",
        "```\n",
        "Valor do aluguel = 1000\n",
        "Valor do aluguel reajustado = R$ 1310,00\n",
        "```\n",
        "\n",
        "### Parte 2\n",
        "Agora, altere sua calculadora para receber além do `valor do aluguel`, o percentual do reajuste no formato `XX%`.  \n",
        "\n",
        "**Dica:** Descubra uma forma de transformar o percentual recebido em um número para efetuar o cálculo.\n",
        "\n",
        "**Exemplo:**\n",
        "```\n",
        "Valor do aluguel = 1000\n",
        "Percentual do reajuste = 31%\n",
        "Valor do aluguel reajustado = R% 1310,00\n",
        "```"
      ]
    },
    {
      "cell_type": "code",
      "metadata": {
        "id": "VSeAwlW9WbUs",
        "colab": {
          "base_uri": "https://localhost:8080/"
        },
        "outputId": "b82f5a3f-7ad0-460e-eb30-2eea9fb68655"
      },
      "source": [
        "# Resposta Parte 1\n",
        "\n",
        "valor = float(input('Valor do Aluguel: R$ '))\n",
        "taxa = (valor * 0.31) + valor\n",
        "\n",
        "print(f'R$ {taxa:.2f}')"
      ],
      "execution_count": 98,
      "outputs": [
        {
          "output_type": "stream",
          "text": [
            "Valor do Aluguel: R$ 1000\n",
            "R$ 1310.00\n"
          ],
          "name": "stdout"
        }
      ]
    },
    {
      "cell_type": "code",
      "metadata": {
        "id": "bs3jS1yMWd3y",
        "colab": {
          "base_uri": "https://localhost:8080/"
        },
        "outputId": "d141b9af-bffd-4151-b420-816e1264136c"
      },
      "source": [
        "# Resposta Parte 2\n",
        "\n",
        "valor = float(input('Valor do aluguel: R$ '))\n",
        "taxa = input('Valor da taxa em %: ')\n",
        "\n",
        "taxa = taxa.replace('%','')\n",
        "taxa = float(taxa)\n",
        "\n",
        "reajuste = valor + (valor * (taxa / 100))\n",
        "\n",
        "print(f'O valor do reajuste é R$ {reajuste:.2f}')\n"
      ],
      "execution_count": 117,
      "outputs": [
        {
          "output_type": "stream",
          "text": [
            "Valor do aluguel: R$ 85318\n",
            "Valor da taxa em %: 30\n",
            "O valor do reajuste é R$ 110913.40\n"
          ],
          "name": "stdout"
        }
      ]
    },
    {
      "cell_type": "markdown",
      "metadata": {
        "id": "HXFZFLGGWpfe"
      },
      "source": [
        "## Mini Projeto 03 - Calculadora de dano\n",
        "Vamos implementar a calculadora de dano de RPG!!\n",
        "\n",
        "### Parte 1\n",
        "O programa vai receber a `vida e um monstro (entre 10 e 50)` e o `valor do ataque do jogador por turno (entre 5 e 10)`\n",
        "\n",
        "Baseado nos valores, exiba a quantidade de turnos que o jogador irá demorar para conseguir derrotar o monstro.\n",
        "\n",
        "**Exemplo:**\n",
        "```\n",
        "Vida de um monstro (entre 10 e 50): 26\n",
        "Valor do ataque do jogador por turno (entre 5 e 10): 5\n",
        "Resultado: O jogador irá precisar de 6 turnos para derrotar o monstro.\n",
        "```\n",
        "\n",
        "### Parte 2\n",
        "Altere o programa para ao invés de receber a vida do monstro, gerar aleatoriamente um valor entre 10 e 50."
      ]
    },
    {
      "cell_type": "code",
      "metadata": {
        "id": "CfBE1-9PWq3P",
        "colab": {
          "base_uri": "https://localhost:8080/"
        },
        "outputId": "5a8e8563-49d7-4d42-f3e2-bd8801cf5d01"
      },
      "source": [
        "# Resposta Parte 15\n",
        "import math\n",
        "\n",
        "vm = int(input('Vida de um monstro (entre 10 e 50): '))\n",
        "va = int(input('Valor do ataque (entre 5 e 10): '))\n",
        "turno = math.ceil(vm / va)\n",
        "\n",
        "print(f'O jogador terá que utilizar {turno} turnos para derrotar o monstro.')"
      ],
      "execution_count": 130,
      "outputs": [
        {
          "output_type": "stream",
          "text": [
            "Vida de um monstro (entre 10 e 50): 47\n",
            "Valor do ataque (entre 5 e 10): 7\n",
            "O jogador terá que utilizar 7 turnos para derrotar o monstro\n"
          ],
          "name": "stdout"
        }
      ]
    },
    {
      "cell_type": "code",
      "metadata": {
        "id": "t_fYeKL3WtzV",
        "colab": {
          "base_uri": "https://localhost:8080/"
        },
        "outputId": "16c5881f-0965-4b42-d1ed-d9c32aad2009"
      },
      "source": [
        "# Resposta Parte 2\n",
        "import random\n",
        "import math\n",
        "\n",
        "vm = random.randint(10,50)\n",
        "va = int(input('Valor do ataque (entre 5 e 10): '))\n",
        "turno = math.ceil(vm/va)\n",
        "\n",
        "print(f'O jogador terá que utilizar {turno} turnos para derrotar o monstro.')"
      ],
      "execution_count": 131,
      "outputs": [
        {
          "output_type": "stream",
          "text": [
            "Valor do ataque (entre 5 e 10): 7\n",
            "O jogador terá que utilizar 5 turnos para derrotar o monstro.\n"
          ],
          "name": "stdout"
        }
      ]
    }
  ]
}